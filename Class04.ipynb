{
  "nbformat": 4,
  "nbformat_minor": 0,
  "metadata": {
    "colab": {
      "provenance": [],
      "authorship_tag": "ABX9TyPS1p+AbbAIZKHPqJ41qzRu",
      "include_colab_link": true
    },
    "kernelspec": {
      "name": "python3",
      "display_name": "Python 3"
    },
    "language_info": {
      "name": "python"
    }
  },
  "cells": [
    {
      "cell_type": "markdown",
      "metadata": {
        "id": "view-in-github",
        "colab_type": "text"
      },
      "source": [
        "<a href=\"https://colab.research.google.com/github/mahnoorfatimafaizi/AI-101-Python-Fundamentals-for-AI/blob/main/Class04.ipynb\" target=\"_parent\"><img src=\"https://colab.research.google.com/assets/colab-badge.svg\" alt=\"Open In Colab\"/></a>"
      ]
    },
    {
      "cell_type": "markdown",
      "source": [
        "# List"
      ],
      "metadata": {
        "id": "7mpW9v0mtZjp"
      }
    },
    {
      "cell_type": "code",
      "source": [
        "fruits: list[str] = [\"Apple\", \"Mango\", \"Banana\", \"Grapes\"]\n",
        "print(fruits)\n",
        "print(fruits[2])"
      ],
      "metadata": {
        "colab": {
          "base_uri": "https://localhost:8080/"
        },
        "id": "uY7lDiEauuvq",
        "outputId": "8b1bd446-21bb-4aeb-cf17-d9858686e5be"
      },
      "execution_count": 9,
      "outputs": [
        {
          "output_type": "stream",
          "name": "stdout",
          "text": [
            "['Apple', 'Mango', 'Banana', 'Grapes']\n",
            "Banana\n"
          ]
        }
      ]
    },
    {
      "cell_type": "markdown",
      "source": [
        "# List Length"
      ],
      "metadata": {
        "id": "lBMdi7ZNwQLB"
      }
    },
    {
      "cell_type": "code",
      "source": [
        "print(len(fruits))"
      ],
      "metadata": {
        "colab": {
          "base_uri": "https://localhost:8080/"
        },
        "id": "cYisSYnov5ar",
        "outputId": "aae740bb-06b2-499f-f695-e2f8f4da8de2"
      },
      "execution_count": 10,
      "outputs": [
        {
          "output_type": "stream",
          "name": "stdout",
          "text": [
            "4\n"
          ]
        }
      ]
    },
    {
      "cell_type": "markdown",
      "source": [
        "# Slice"
      ],
      "metadata": {
        "id": "uva3TYE5wUqN"
      }
    },
    {
      "cell_type": "code",
      "source": [
        "fruits: list[str] = [\"Apple\", \"Mango\", \"Banana\", \"Grapes\"]\n",
        "print(fruits[-1])"
      ],
      "metadata": {
        "colab": {
          "base_uri": "https://localhost:8080/"
        },
        "id": "_JYjfmHSwXuK",
        "outputId": "66382442-32ed-4990-8611-e8f82bf81916"
      },
      "execution_count": 11,
      "outputs": [
        {
          "output_type": "stream",
          "name": "stdout",
          "text": [
            "Grapes\n"
          ]
        }
      ]
    },
    {
      "cell_type": "code",
      "source": [
        "fruits: list[str] = [\"Apple\", \"Mango\", \"Banana\", \"Grapes\"]\n",
        "print(fruits[1:3])"
      ],
      "metadata": {
        "colab": {
          "base_uri": "https://localhost:8080/"
        },
        "id": "buvO2B8twlO3",
        "outputId": "c4b07723-d6ee-4b4f-a79b-33c552d6cd79"
      },
      "execution_count": 12,
      "outputs": [
        {
          "output_type": "stream",
          "name": "stdout",
          "text": [
            "['Mango', 'Banana']\n"
          ]
        }
      ]
    },
    {
      "cell_type": "code",
      "source": [
        "fruits: list[str] = [\"Apple\", \"Mango\", \"Banana\", \"Grapes\"]\n",
        "print(fruits[:3])"
      ],
      "metadata": {
        "colab": {
          "base_uri": "https://localhost:8080/"
        },
        "id": "S4M_aTWXwsaC",
        "outputId": "b8f61370-64bd-4009-e05d-53a6031bf084"
      },
      "execution_count": 13,
      "outputs": [
        {
          "output_type": "stream",
          "name": "stdout",
          "text": [
            "['Apple', 'Mango', 'Banana']\n"
          ]
        }
      ]
    },
    {
      "cell_type": "markdown",
      "source": [
        "Checking Items in a list"
      ],
      "metadata": {
        "id": "Jp0tXY1a5FdV"
      }
    },
    {
      "cell_type": "code",
      "source": [
        "fruits: list[str] = [\"Apple\", \"Mango\", \"Banana\", \"Grapes\"]\n",
        "print(\"Banana\" in fruits)\n",
        "print(\"Orange\" in fruits)"
      ],
      "metadata": {
        "colab": {
          "base_uri": "https://localhost:8080/"
        },
        "id": "72HvfA8f4XVR",
        "outputId": "0c99f61f-ae35-4060-a25c-42dd1e3591ab"
      },
      "execution_count": 16,
      "outputs": [
        {
          "output_type": "stream",
          "name": "stdout",
          "text": [
            "True\n",
            "False\n"
          ]
        }
      ]
    },
    {
      "cell_type": "markdown",
      "source": [
        "Adding and Removig Items from the list"
      ],
      "metadata": {
        "id": "6ubr_aBM-FaD"
      }
    },
    {
      "cell_type": "code",
      "source": [
        "fruits: list[str] = [\"Apple\", \"Mango\", \"Banana\", \"Grapes\"]\n",
        "\n",
        "print(fruits)\n",
        "\n",
        "fruits.append(\"Orange\")\n",
        "print(fruits)\n",
        "\n",
        "fruits.remove(\"Apple\")\n",
        "print(fruits)"
      ],
      "metadata": {
        "colab": {
          "base_uri": "https://localhost:8080/"
        },
        "id": "qd9TEGjh-1CV",
        "outputId": "13cf266e-6e6c-47e4-b1d3-df7926b0e6d2"
      },
      "execution_count": 22,
      "outputs": [
        {
          "output_type": "stream",
          "name": "stdout",
          "text": [
            "['Apple', 'Mango', 'Banana', 'Grapes']\n",
            "['Apple', 'Mango', 'Banana', 'Grapes', 'Orange']\n",
            "['Mango', 'Banana', 'Grapes', 'Orange']\n"
          ]
        }
      ]
    },
    {
      "cell_type": "markdown",
      "source": [
        "Inserting and Removing"
      ],
      "metadata": {
        "id": "-IRne9PoAZrC"
      }
    },
    {
      "cell_type": "code",
      "source": [
        "fruits: list[str] = [\"Apple\", \"Mango\", \"Banana\", \"Grapes\"]\n",
        "\n",
        "fruits.insert(2, \"Strawberry\")\n",
        "print(fruits)\n",
        "\n",
        "\n",
        "fruits.pop(2)\n",
        "print(fruits)"
      ],
      "metadata": {
        "colab": {
          "base_uri": "https://localhost:8080/"
        },
        "id": "7wYBxiD8Aes0",
        "outputId": "2e800c28-1133-4537-a9fa-544a64a7425a"
      },
      "execution_count": 25,
      "outputs": [
        {
          "output_type": "stream",
          "name": "stdout",
          "text": [
            "['Apple', 'Mango', 'Strawberry', 'Banana', 'Grapes']\n",
            "['Apple', 'Mango', 'Banana', 'Grapes']\n"
          ]
        }
      ]
    }
  ]
}